{
 "cells": [
  {
   "cell_type": "code",
   "execution_count": 1,
   "metadata": {
    "collapsed": true
   },
   "outputs": [],
   "source": [
    "from gaussian_kde.gaussian_kde import gaussian_kde\n",
    "from scipy.stats import multivariate_normal\n",
    "import scipy\n",
    "import numpy as np\n",
    "\n",
    "import numpy as np\n",
    "from matplotlib import pyplot as plt\n",
    "from matplotlib.ticker import NullFormatter, NullLocator, MultipleLocator\n",
    "\n",
    "from astroML.plotting import setup_text_plots\n",
    "setup_text_plots(fontsize=8, usetex=True)"
   ]
  },
  {
   "cell_type": "markdown",
   "metadata": {},
   "source": [
    "# Gaussian KDE Conditional Distributions"
   ]
  },
  {
   "cell_type": "markdown",
   "metadata": {},
   "source": [
    "First, let's generate a non-trivial test distribution."
   ]
  },
  {
   "cell_type": "code",
   "execution_count": 126,
   "metadata": {
    "collapsed": true
   },
   "outputs": [],
   "source": [
    "# I am borrowing this from AstroML\n",
    "# http://www.astroml.org/book_figures/chapter3/fig_conditional_probability.html\n",
    "\n",
    "def banana_distribution(N=10000):\n",
    "    \"\"\"\n",
    "    This generates random points in a banana shape\n",
    "    \"\"\"\n",
    "    # create a truncated normal distribution\n",
    "    theta = np.random.normal(0, np.pi / 8, 10000)\n",
    "    theta[theta >= np.pi / 4] /= 2\n",
    "    theta[theta <= -np.pi / 4] /= 2\n",
    "    \n",
    "    # define the curve parametrically\n",
    "    r = np.sqrt(1. / abs(np.cos(theta) ** 2 - np.sin(theta) ** 2))\n",
    "    r += np.random.normal(0, 0.08, size=10000)\n",
    "    x = r * np.cos(theta + np.pi / 4)\n",
    "    y = r * np.sin(theta + np.pi / 4)\n",
    "    \n",
    "    return (x, y)"
   ]
  },
  {
   "cell_type": "code",
   "execution_count": 127,
   "metadata": {
    "collapsed": true
   },
   "outputs": [],
   "source": [
    "# randomly sample from this distribution\n",
    "\n",
    "np.random.seed(1)\n",
    "x, y = banana_distribution(10000)"
   ]
  },
  {
   "cell_type": "code",
   "execution_count": 142,
   "metadata": {},
   "outputs": [],
   "source": [
    "# apply gaissian KDE\n",
    "\n",
    "values = np.vstack([x,y]).T\n",
    "kernel = gaussian_kde(values.T, bw_method=0.06)"
   ]
  },
  {
   "cell_type": "code",
   "execution_count": 143,
   "metadata": {
    "collapsed": true
   },
   "outputs": [],
   "source": [
    "# resample from the full 2D distribution using the KDE estimate\n",
    "\n",
    "result = kernel.resample(size=10000)\n",
    "x_new,y_new = result[0,:],result[1,:]"
   ]
  },
  {
   "cell_type": "code",
   "execution_count": 144,
   "metadata": {
    "collapsed": true
   },
   "outputs": [],
   "source": [
    "# sample from conditional distribution\n",
    "# at three different values of y\n",
    "\n",
    "y_c = np.array([1.46341463,0.97560976,0.48780488])\n",
    "\n",
    "samples_1 = kernel.conditional_sample(np.ones(10000)*y_c[0], c=[False, True])\n",
    "samples_2 = kernel.conditional_sample(np.ones(10000)*y_c[1], c=[False, True])\n",
    "samples_3 = kernel.conditional_sample(np.ones(10000)*y_c[2], c=[False, True])"
   ]
  },
  {
   "cell_type": "code",
   "execution_count": 145,
   "metadata": {
    "collapsed": true
   },
   "outputs": [],
   "source": [
    "# calculate the 2D density in bins\n",
    "\n",
    "X, Y = np.mgrid[0:2:100j, 0:2:100j]\n",
    "positions = np.vstack([X.ravel(), Y.ravel()])\n",
    "Z = np.reshape(kernel(positions).T, X.shape)\n",
    "\n",
    "Ngrid = 41\n",
    "grid = np.linspace(0, 2, Ngrid + 1)\n",
    "\n",
    "H, xbins, ybins = np.histogram2d(x, y, grid)\n",
    "H /= np.sum(H)"
   ]
  },
  {
   "cell_type": "code",
   "execution_count": 146,
   "metadata": {},
   "outputs": [
    {
     "data": {
      "image/png": "[encoded data removed]",
      "text/plain": [
       "<matplotlib.figure.Figure at 0x1a178d4d90>"
      ]
     },
     "metadata": {},
     "output_type": "display_data"
    }
   ],
   "source": [
    "# plot the results\n",
    "xmin, xmax = (0,2)\n",
    "ymin, ymax = (0,2)\n",
    "\n",
    "fig = plt.figure(figsize=(10, 5))\n",
    "\n",
    "# define axes\n",
    "ax_Pxy = plt.axes((0.2, 0.34, 0.27, 0.52))\n",
    "ax_Px = plt.axes((0.2, 0.14, 0.27, 0.2))\n",
    "ax_Py = plt.axes((0.1, 0.34, 0.1, 0.52))\n",
    "ax_cb = plt.axes((0.48, 0.34, 0.01, 0.52))\n",
    "ax_Px_y = [plt.axes((0.65, 0.62, 0.32, 0.23)),\n",
    "           plt.axes((0.65, 0.38, 0.32, 0.23)),\n",
    "           plt.axes((0.65, 0.14, 0.32, 0.23))]\n",
    "\n",
    "# set axis label formatters\n",
    "ax_Px_y[0].xaxis.set_major_formatter(NullFormatter())\n",
    "ax_Px_y[1].xaxis.set_major_formatter(NullFormatter())\n",
    "\n",
    "ax_Pxy.xaxis.set_major_formatter(NullFormatter())\n",
    "ax_Pxy.yaxis.set_major_formatter(NullFormatter())\n",
    "\n",
    "ax_Px.yaxis.set_major_formatter(NullFormatter())\n",
    "ax_Py.xaxis.set_major_formatter(NullFormatter())\n",
    "\n",
    "# draw the joint probability\n",
    "plt.axes(ax_Pxy)\n",
    "#H *= 1000\n",
    "plt.imshow(np.rot90(Z), cmap=plt.cm.gist_earth_r, extent=[xmin, xmax, ymin, ymax])\n",
    "#plt.plot(x, y, 'k.', markersize=1, alpha=0.2)\n",
    "cb = plt.colorbar(cax=ax_cb)\n",
    "cb.set_label('$p(x, y)$')\n",
    "plt.text(0, 1.02, r'$\\times 10^{-3}$',\n",
    "         transform=ax_cb.transAxes)\n",
    "\n",
    "# draw p(x) distribution\n",
    "ax_Px.plot(xbins[1:], 1.0*H.sum(0)/np.diff(xbins), '-k', drawstyle='steps')\n",
    "\n",
    "# draw p(y) distribution\n",
    "ax_Py.plot(1.0*H.sum(1)/np.diff(ybins), ybins[1:], '-k', drawstyle='steps')\n",
    "\n",
    "# define axis limits\n",
    "ax_Pxy.set_xlim(0, 2)\n",
    "ax_Pxy.set_ylim(0, 2)\n",
    "ax_Px.set_xlim(0, 2)\n",
    "ax_Py.set_ylim(0, 2)\n",
    "\n",
    "# label axes\n",
    "ax_Pxy.set_xlabel('$x$')\n",
    "ax_Pxy.set_ylabel('$y$')\n",
    "ax_Px.set_xlabel('$x$')\n",
    "ax_Px.set_ylabel('$p(x)$')\n",
    "ax_Px.yaxis.set_label_position('right')\n",
    "ax_Py.set_ylabel('$y$')\n",
    "ax_Py.set_xlabel('$p(y)$')\n",
    "ax_Py.xaxis.set_label_position('top')\n",
    "\n",
    "# draw marginal probabilities\n",
    "iy = [3 * Ngrid / 4, Ngrid / 2, Ngrid / 4]\n",
    "colors = 'rgc'\n",
    "axis = ax_Pxy.axis()\n",
    "for i in range(3):\n",
    "    # overplot range on joint probability\n",
    "    ax_Pxy.plot([0, 2, 2, 0],\n",
    "                [ybins[iy[i] + 1], ybins[iy[i] + 1],\n",
    "                 ybins[iy[i]], ybins[iy[i]]], c=colors[i], lw=1)\n",
    "    Px_y = H[iy[i]] / H[iy[i]].sum()/np.diff(xbins)\n",
    "    ax_Px_y[i].plot(xbins[1:], Px_y, drawstyle='steps', c=colors[i])\n",
    "    ax_Px_y[i].yaxis.set_major_formatter(NullFormatter())\n",
    "    ax_Px_y[i].set_ylabel('$p(x | %.1f)$' % ybins[iy[i]])\n",
    "ax_Pxy.axis(axis)\n",
    "\n",
    "ax_Px_y[2].set_xlabel('$x$')\n",
    "\n",
    "ax_Pxy.set_title('Joint Probability')\n",
    "ax_Px_y[0].set_title('Conditional Probability')\n",
    "\n",
    "# conditional distributions\n",
    "bins = np.linspace(0,2,41)\n",
    "counts = np.histogram(samples_1, bins=bins)[0]\n",
    "counts = 1.0*counts/np.sum(counts)/np.diff(bins)\n",
    "ax_Px_y[0].step(bins[1:], counts, color=colors[0], alpha=0.5)\n",
    "\n",
    "counts = np.histogram(samples_2, bins=bins)[0]\n",
    "counts = 1.0*counts/np.sum(counts)/np.diff(bins)\n",
    "ax_Px_y[1].step(bins[1:], counts, color=colors[1], alpha=0.5)\n",
    "\n",
    "counts = np.histogram(samples_3, bins=bins)[0]\n",
    "counts = 1.0*counts/np.sum(counts)/np.diff(bins)\n",
    "ax_Px_y[2].step(bins[1:], counts, color=colors[2], alpha=0.5)\n",
    "\n",
    "# marginalized distributions\n",
    "bins = np.linspace(0,2,41)\n",
    "counts = np.histogram(x_new, bins=bins)[0]\n",
    "counts = 1.0*counts/np.sum(counts)/np.diff(bins)\n",
    "ax_Px.step(bins[1:], counts, '-', color='grey')\n",
    "\n",
    "counts = np.histogram(y_new, bins=bins)[0]\n",
    "counts = 1.0*counts/np.sum(counts)/np.diff(bins)\n",
    "ax_Py.step(counts, bins[1:], '-', color='grey')\n",
    "\n",
    "plt.show()"
   ]
  },
  {
   "cell_type": "markdown",
   "metadata": {},
   "source": [
    "The 2D KDE result is shown as the color-coded scale.  \n",
    "\n",
    "The solid black lines and darker colored lines are the histograms binning the data directly sampled from the banana distribution\n",
    "\n",
    "The grey and lighter colored l"
   ]
  }
 ],
 "metadata": {
  "kernelspec": {
   "display_name": "Python 2",
   "language": "python",
   "name": "python2"
  },
  "language_info": {
   "codemirror_mode": {
    "name": "ipython",
    "version": 2
   },
   "file_extension": ".py",
   "mimetype": "text/x-python",
   "name": "python",
   "nbconvert_exporter": "python",
   "pygments_lexer": "ipython2",
   "version": "2.7.13"
  }
 },
 "nbformat": 4,
 "nbformat_minor": 2
}
